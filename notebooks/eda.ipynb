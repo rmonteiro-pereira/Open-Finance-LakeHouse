{
 "cells": [
  {
   "cell_type": "code",
   "execution_count": 16,
   "id": "ec803d39",
   "metadata": {},
   "outputs": [
    {
     "name": "stdout",
     "output_type": "stream",
     "text": [
      "c:\\Users\\Mo.DESKTOP-3491UQD\\Documents\\Open-Finance-LakeHouse\\.venv\\Scripts\\python.exe\n",
      "PySpark: 3.5.5\n",
      "pandas: 2.2.3\n"
     ]
    }
   ],
   "source": [
    "import os\n",
    "import sys\n",
    "\n",
    "os.environ[\"PYSPARK_PYTHON\"] = sys.executable\n",
    "os.environ[\"PYSPARK_DRIVER_PYTHON\"] = sys.executable\n",
    "os.environ[\"SPARK_DRIVER_MEMORY\"] = \"8g\"\n",
    "os.environ[\"SPARK_EXECUTOR_MEMORY\"] = \"8g\"\n",
    "import pandas as pd\n",
    "import pyspark\n",
    "\n",
    "print(sys.executable)\n",
    "print(\"PySpark:\", pyspark.__version__)\n",
    "print(\"pandas:\", pd.__version__)"
   ]
  },
  {
   "cell_type": "code",
   "execution_count": 17,
   "id": "d48ccee0",
   "metadata": {},
   "outputs": [],
   "source": [
    "import io\n",
    "import tempfile\n",
    "from datetime import datetime\n",
    "\n",
    "import requests\n",
    "from pyspark.sql.types import DateType, DoubleType, StructField, StructType\n",
    "\n",
    "from open_finance_lakehouse.utils.spark_session import get_spark_session\n",
    "\n",
    "# --- Parameters ---\n",
    "bacen_series_id = 11  # Example: SELIC\n",
    "bacen_start_date = (datetime.today().replace(year=datetime.today().year - 10)).strftime(\"%d/%m/%Y\")\n",
    "bacen_end_date = datetime.today().strftime(\"%d/%m/%Y\")\n",
    "cvm_year = 2024\n",
    "cvm_month = 4\n",
    "\n",
    "# --- Spark Session ---\n",
    "get_spark_session.cache_clear()\n",
    "spark = get_spark_session()"
   ]
  },
  {
   "cell_type": "code",
   "execution_count": 18,
   "id": "68c3f267",
   "metadata": {},
   "outputs": [
    {
     "name": "stdout",
     "output_type": "stream",
     "text": [
      "2509 \n",
      "            data     valor\n",
      "0    2015-04-27  0.047314\n",
      "1    2015-04-28  0.047350\n",
      "2    2015-04-29  0.047350\n",
      "3    2015-04-30  0.049037\n",
      "4    2015-05-04  0.049037\n",
      "...         ...       ...\n",
      "2504 2025-04-17  0.052531\n",
      "2505 2025-04-22  0.052531\n",
      "2506 2025-04-23  0.052531\n",
      "2507 2025-04-24  0.052531\n",
      "2508 2025-04-25  0.052531\n",
      "\n",
      "[2509 rows x 2 columns]\n"
     ]
    }
   ],
   "source": [
    "\n",
    "\n",
    "# --- BACEN Fetch (pandas) ---\n",
    "bacen_url = (\n",
    "    f\"https://api.bcb.gov.br/dados/serie/bcdata.sgs.{bacen_series_id}/dados\"\n",
    "    f\"?formato=json&dataInicial={bacen_start_date}&dataFinal={bacen_end_date}\"\n",
    ")\n",
    "bacen_response = requests.get(bacen_url)\n",
    "if bacen_response.status_code != 200:\n",
    "    raise ValueError(f\"Erro ao buscar dados do BACEN: {bacen_response.text}\")\n",
    "\n",
    "bacen_df = pd.read_json(io.StringIO(bacen_response.text))\n",
    "bacen_df.columns = [\"data\", \"valor\"]\n",
    "bacen_df[\"data\"] = pd.to_datetime(bacen_df[\"data\"], format=\"%d/%m/%Y\")\n",
    "bacen_df[\"valor\"] = pd.to_numeric(bacen_df[\"valor\"], errors=\"coerce\")\n",
    "print(len(bacen_df), '\\n',bacen_df)\n",
    "\n",
    "# schema = StructType([\n",
    "#     StructField(\"data\", DateType(), True),\n",
    "#     StructField(\"valor\", DoubleType(), True)\n",
    "# ])\n",
    "# Convert BACEN pandas DataFrame to Spark DataFrame\n",
    "spark.conf.set(\"spark.sql.execution.arrow.pyspark.enabled\", \"false\")\n",
    "bacen_spark_df = spark.createDataFrame(bacen_df)\n",
    "\n"
   ]
  },
  {
   "cell_type": "code",
   "execution_count": 19,
   "id": "952ad2d6",
   "metadata": {},
   "outputs": [
    {
     "name": "stdout",
     "output_type": "stream",
     "text": [
      "+-------------------+-----+\n",
      "|               data|valor|\n",
      "+-------------------+-----+\n",
      "|2024-01-01 00:00:00| 1.23|\n",
      "+-------------------+-----+\n",
      "\n"
     ]
    }
   ],
   "source": [
    "test_df = pd.DataFrame({\"data\": [pd.Timestamp(\"2024-01-01\")], \"valor\": [1.23]})\n",
    "test_spark_df = spark.createDataFrame(test_df)\n",
    "test_spark_df.show()"
   ]
  },
  {
   "cell_type": "code",
   "execution_count": 20,
   "id": "aa207481",
   "metadata": {},
   "outputs": [
    {
     "name": "stdout",
     "output_type": "stream",
     "text": [
      "+-------------------+--------+\n",
      "|               data|   valor|\n",
      "+-------------------+--------+\n",
      "|2015-04-27 00:00:00|0.047314|\n",
      "|2015-04-28 00:00:00| 0.04735|\n",
      "|2015-04-29 00:00:00| 0.04735|\n",
      "|2015-04-30 00:00:00|0.049037|\n",
      "|2015-05-04 00:00:00|0.049037|\n",
      "|2015-05-05 00:00:00|0.049037|\n",
      "|2015-05-06 00:00:00|0.049037|\n",
      "|2015-05-07 00:00:00|0.049037|\n",
      "|2015-05-08 00:00:00|0.049037|\n",
      "|2015-05-11 00:00:00|0.049037|\n",
      "+-------------------+--------+\n",
      "only showing top 10 rows\n",
      "\n"
     ]
    }
   ],
   "source": [
    "bacen_spark_df.show(10)"
   ]
  },
  {
   "cell_type": "code",
   "execution_count": 21,
   "id": "d8da2d1e",
   "metadata": {},
   "outputs": [
    {
     "name": "stdout",
     "output_type": "stream",
     "text": [
      "CVM URL: https://dados.cvm.gov.br/dados/FI/DOC/INF_DIARIO/DADOS/inf_diario_fi_202404.zip\n",
      "BACEN Spark DataFrame Schema:\n",
      "root\n",
      " |-- data: timestamp (nullable = true)\n",
      " |-- valor: double (nullable = true)\n",
      "\n",
      "BACEN Spark DataFrame Sample:\n",
      "+-------------------+--------+\n",
      "|               data|   valor|\n",
      "+-------------------+--------+\n",
      "|2015-04-27 00:00:00|0.047314|\n",
      "|2015-04-28 00:00:00| 0.04735|\n",
      "|2015-04-29 00:00:00| 0.04735|\n",
      "|2015-04-30 00:00:00|0.049037|\n",
      "|2015-05-04 00:00:00|0.049037|\n",
      "+-------------------+--------+\n",
      "only showing top 5 rows\n",
      "\n",
      "CVM Spark DataFrame Schema:\n",
      "root\n",
      " |-- TP_FUNDO_CLASSE: string (nullable = true)\n",
      " |-- CNPJ_FUNDO_CLASSE: string (nullable = true)\n",
      " |-- ID_SUBCLASSE: string (nullable = true)\n",
      " |-- DT_COMPTC: date (nullable = true)\n",
      " |-- VL_TOTAL: double (nullable = true)\n",
      " |-- VL_QUOTA: double (nullable = true)\n",
      " |-- VL_PATRIM_LIQ: double (nullable = true)\n",
      " |-- CAPTC_DIA: double (nullable = true)\n",
      " |-- RESG_DIA: double (nullable = true)\n",
      " |-- NR_COTST: integer (nullable = true)\n",
      "\n",
      "CVM Spark DataFrame Sample:\n",
      "+---------------+------------------+------------+----------+----------+----------+-------------+---------+--------+--------+\n",
      "|TP_FUNDO_CLASSE| CNPJ_FUNDO_CLASSE|ID_SUBCLASSE| DT_COMPTC|  VL_TOTAL|  VL_QUOTA|VL_PATRIM_LIQ|CAPTC_DIA|RESG_DIA|NR_COTST|\n",
      "+---------------+------------------+------------+----------+----------+----------+-------------+---------+--------+--------+\n",
      "|             FI|00.017.024/0001-53|        NULL|2024-04-01|1110061.31|35.0215439|   1110855.35|      0.0|     0.0|       1|\n",
      "|             FI|00.017.024/0001-53|        NULL|2024-04-02| 1110510.5|35.0310826|   1111157.91|      0.0|     0.0|       1|\n",
      "|             FI|00.017.024/0001-53|        NULL|2024-04-03|1110959.34| 35.042477|   1111519.33|      0.0|     0.0|       1|\n",
      "|             FI|00.017.024/0001-53|        NULL|2024-04-04|1111404.79|35.0536951|   1111875.16|      0.0|     0.0|       1|\n",
      "|             FI|00.017.024/0001-53|        NULL|2024-04-05|1108949.19|35.0648921|   1109386.54|      0.0| 2843.78|       1|\n",
      "+---------------+------------------+------------+----------+----------+----------+-------------+---------+--------+--------+\n",
      "only showing top 5 rows\n",
      "\n"
     ]
    }
   ],
   "source": [
    "import zipfile\n",
    "\n",
    "# --- CVM Fetch (Spark) ---\n",
    "cvm_base_url = \"https://dados.cvm.gov.br/dados/FI/DOC/INF_DIARIO/DADOS/\"\n",
    "cvm_file_name = f\"inf_diario_fi_{cvm_year}{str(cvm_month).zfill(2)}.zip\"\n",
    "cvm_url = f\"{cvm_base_url}{cvm_file_name}\"\n",
    "\n",
    "with tempfile.NamedTemporaryFile(delete=False, suffix=\".zip\") as tmp:\n",
    "    print(\"CVM URL:\", cvm_url)\n",
    "    content = requests.get(cvm_url).content\n",
    "    tmp.write(content)\n",
    "    tmp_path = tmp.name\n",
    "\n",
    "\n",
    "with zipfile.ZipFile(tmp_path, 'r') as zip_ref:\n",
    "    csv_name = zip_ref.namelist()[0]  # Assume only one CSV in the zip\n",
    "    zip_ref.extract(csv_name, os.path.dirname(tmp_path))\n",
    "    csv_path = os.path.join(os.path.dirname(tmp_path), csv_name)\n",
    "\n",
    "# Ensure Spark reads the file before it is deleted\n",
    "cvm_spark_df = spark.read.csv(\n",
    "    csv_path,\n",
    "    header=True,\n",
    "    sep=\";\",\n",
    "    inferSchema=True,\n",
    "    encoding=\"ISO-8859-1\"\n",
    ")\n",
    "\n",
    "# Wait for Spark to finish reading the file before deleting it\n",
    "cvm_spark_df.cache()\n",
    "cvm_spark_df.count()\n",
    "os.unlink(tmp_path)\n",
    "os.unlink(csv_path)\n",
    "\n",
    "# --- EDA Examples ---\n",
    "print(\"BACEN Spark DataFrame Schema:\")\n",
    "bacen_spark_df.printSchema()\n",
    "print(\"BACEN Spark DataFrame Sample:\")\n",
    "bacen_spark_df.show(5)\n",
    "\n",
    "print(\"CVM Spark DataFrame Schema:\")\n",
    "cvm_spark_df.printSchema()\n",
    "print(\"CVM Spark DataFrame Sample:\")\n",
    "cvm_spark_df.show(5)\n",
    "\n",
    "# You can now use bacen_spark_df and cvm_spark_df for further EDA in Spark or convert to pandas if needed:\n",
    "# bacen_pd = bacen_spark_df.toPandas()\n",
    "# cvm_pd = cvm_spark_df.toPandas()"
   ]
  }
 ],
 "metadata": {
  "kernelspec": {
   "display_name": ".venv",
   "language": "python",
   "name": "python3"
  },
  "language_info": {
   "codemirror_mode": {
    "name": "ipython",
    "version": 3
   },
   "file_extension": ".py",
   "mimetype": "text/x-python",
   "name": "python",
   "nbconvert_exporter": "python",
   "pygments_lexer": "ipython3",
   "version": "3.11.12"
  }
 },
 "nbformat": 4,
 "nbformat_minor": 5
}
